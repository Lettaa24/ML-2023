{
 "cells": [
  {
   "cell_type": "markdown",
   "id": "400680a4",
   "metadata": {},
   "source": [
    "# ЛАБОРАТОРНА РОБОТА  \n",
    "\n",
    "## \"Алгоритми та моделі перетворення даних\"\n",
    "\n",
    "__Метою__ лабораторної роботи є набуття практичних навичок використання модулів бібліотеки `Scikit-learn` для вирішення наступних задач:\n",
    "\n",
    "- визначення та розподілення данних по їх типам\n",
    "- вибір та застосування алгоритмів перетворення різноманітних типів даних\n",
    "- настроювання параметрів та застосування трансформерів\n",
    "- побудова конвеєра для автоматизації процесів трансформації даних\n",
    "\n",
    "__Результатом__ виконання лабораторної роботи повинен стати датасет, в якому колонки з покажчиком перетворені під для навчання моделей"
   ]
  },
  {
   "cell_type": "code",
   "execution_count": 2,
   "id": "50098a89",
   "metadata": {},
   "outputs": [],
   "source": [
    "# імпортувати бібліотеки pandas та numpy\n",
    "import pandas as pd\n",
    "import numpy as np"
   ]
  },
  {
   "cell_type": "markdown",
   "id": "306ace06",
   "metadata": {},
   "source": [
    "## Завдання\n",
    "\n",
    "Вхідним датасетом є csv-файл, отриманий в результаті виконання лабораторної роботи по конструюванню та очищеню покажчиків даних про продажі квартир рієлторської компанії.\n",
    "\n",
    "<h4 style='background-color:cyan; color:red; padding:15px'><ul>\n",
    "    <li>замість `...` вписуйте Ваш програмний код\n",
    "    <li>не змінюйте імена запропонованих зміних\n",
    "    </ul>\n",
    "</h4>"
   ]
  },
  {
   "cell_type": "code",
   "execution_count": 3,
   "id": "4428c2d4",
   "metadata": {},
   "outputs": [
    {
     "data": {
      "text/html": [
       "<div>\n",
       "<style scoped>\n",
       "    .dataframe tbody tr th:only-of-type {\n",
       "        vertical-align: middle;\n",
       "    }\n",
       "\n",
       "    .dataframe tbody tr th {\n",
       "        vertical-align: top;\n",
       "    }\n",
       "\n",
       "    .dataframe thead th {\n",
       "        text-align: right;\n",
       "    }\n",
       "</style>\n",
       "<table border=\"1\" class=\"dataframe\">\n",
       "  <thead>\n",
       "    <tr style=\"text-align: right;\">\n",
       "      <th></th>\n",
       "      <th>Price</th>\n",
       "      <th>rooms</th>\n",
       "      <th>price_per_m2</th>\n",
       "      <th>level</th>\n",
       "      <th>levels</th>\n",
       "      <th>year</th>\n",
       "      <th>area_total</th>\n",
       "      <th>area_living</th>\n",
       "      <th>area_kitchen</th>\n",
       "      <th>street</th>\n",
       "      <th>type</th>\n",
       "      <th>district</th>\n",
       "      <th>area_comfort</th>\n",
       "    </tr>\n",
       "  </thead>\n",
       "  <tbody>\n",
       "    <tr>\n",
       "      <th>0</th>\n",
       "      <td>30970.0</td>\n",
       "      <td>1.0</td>\n",
       "      <td>1106.0</td>\n",
       "      <td>12.0</td>\n",
       "      <td>13.0</td>\n",
       "      <td>2013.0</td>\n",
       "      <td>28.0</td>\n",
       "      <td>13.0</td>\n",
       "      <td>5.0</td>\n",
       "      <td>Петропавлівська</td>\n",
       "      <td>площа</td>\n",
       "      <td>Оболонський</td>\n",
       "      <td>10.0</td>\n",
       "    </tr>\n",
       "    <tr>\n",
       "      <th>1</th>\n",
       "      <td>30970.0</td>\n",
       "      <td>1.0</td>\n",
       "      <td>1106.0</td>\n",
       "      <td>12.0</td>\n",
       "      <td>13.0</td>\n",
       "      <td>2013.0</td>\n",
       "      <td>28.0</td>\n",
       "      <td>13.0</td>\n",
       "      <td>5.0</td>\n",
       "      <td>Петропавлівська</td>\n",
       "      <td>вулиця</td>\n",
       "      <td>Подільський</td>\n",
       "      <td>10.0</td>\n",
       "    </tr>\n",
       "    <tr>\n",
       "      <th>2</th>\n",
       "      <td>30970.0</td>\n",
       "      <td>1.0</td>\n",
       "      <td>1106.0</td>\n",
       "      <td>12.0</td>\n",
       "      <td>13.0</td>\n",
       "      <td>2013.0</td>\n",
       "      <td>28.0</td>\n",
       "      <td>13.0</td>\n",
       "      <td>5.0</td>\n",
       "      <td>Петропавлівська</td>\n",
       "      <td>площа</td>\n",
       "      <td>Оболонський</td>\n",
       "      <td>10.0</td>\n",
       "    </tr>\n",
       "    <tr>\n",
       "      <th>3</th>\n",
       "      <td>30970.0</td>\n",
       "      <td>1.0</td>\n",
       "      <td>1106.0</td>\n",
       "      <td>12.0</td>\n",
       "      <td>13.0</td>\n",
       "      <td>2013.0</td>\n",
       "      <td>28.0</td>\n",
       "      <td>13.0</td>\n",
       "      <td>5.0</td>\n",
       "      <td>Петропавлівська</td>\n",
       "      <td>вулиця</td>\n",
       "      <td>Подільський</td>\n",
       "      <td>10.0</td>\n",
       "    </tr>\n",
       "    <tr>\n",
       "      <th>4</th>\n",
       "      <td>30970.0</td>\n",
       "      <td>1.0</td>\n",
       "      <td>1106.0</td>\n",
       "      <td>12.0</td>\n",
       "      <td>13.0</td>\n",
       "      <td>2013.0</td>\n",
       "      <td>28.0</td>\n",
       "      <td>13.0</td>\n",
       "      <td>5.0</td>\n",
       "      <td>Петропавлівська</td>\n",
       "      <td>площа</td>\n",
       "      <td>Оболонський</td>\n",
       "      <td>10.0</td>\n",
       "    </tr>\n",
       "    <tr>\n",
       "      <th>5</th>\n",
       "      <td>30970.0</td>\n",
       "      <td>1.0</td>\n",
       "      <td>1106.0</td>\n",
       "      <td>12.0</td>\n",
       "      <td>13.0</td>\n",
       "      <td>2013.0</td>\n",
       "      <td>28.0</td>\n",
       "      <td>13.0</td>\n",
       "      <td>5.0</td>\n",
       "      <td>Петропавлівська</td>\n",
       "      <td>вулиця</td>\n",
       "      <td>Подільський</td>\n",
       "      <td>10.0</td>\n",
       "    </tr>\n",
       "    <tr>\n",
       "      <th>6</th>\n",
       "      <td>82000.0</td>\n",
       "      <td>2.0</td>\n",
       "      <td>1281.0</td>\n",
       "      <td>18.0</td>\n",
       "      <td>26.0</td>\n",
       "      <td>2010.0</td>\n",
       "      <td>64.0</td>\n",
       "      <td>37.0</td>\n",
       "      <td>14.0</td>\n",
       "      <td>Дніпровська</td>\n",
       "      <td>вулиця</td>\n",
       "      <td>Оболонський</td>\n",
       "      <td>13.0</td>\n",
       "    </tr>\n",
       "    <tr>\n",
       "      <th>7</th>\n",
       "      <td>135000.0</td>\n",
       "      <td>2.0</td>\n",
       "      <td>2077.0</td>\n",
       "      <td>16.0</td>\n",
       "      <td>23.0</td>\n",
       "      <td>2012.0</td>\n",
       "      <td>65.0</td>\n",
       "      <td>25.0</td>\n",
       "      <td>18.0</td>\n",
       "      <td>Дніпровська</td>\n",
       "      <td>вулиця</td>\n",
       "      <td>Оболонський</td>\n",
       "      <td>22.0</td>\n",
       "    </tr>\n",
       "    <tr>\n",
       "      <th>8</th>\n",
       "      <td>84000.0</td>\n",
       "      <td>2.0</td>\n",
       "      <td>1273.0</td>\n",
       "      <td>6.0</td>\n",
       "      <td>26.0</td>\n",
       "      <td>2010.0</td>\n",
       "      <td>66.0</td>\n",
       "      <td>37.0</td>\n",
       "      <td>18.0</td>\n",
       "      <td>Дніпровська</td>\n",
       "      <td>вулиця</td>\n",
       "      <td>Оболонський</td>\n",
       "      <td>11.0</td>\n",
       "    </tr>\n",
       "    <tr>\n",
       "      <th>9</th>\n",
       "      <td>82000.0</td>\n",
       "      <td>2.0</td>\n",
       "      <td>1281.0</td>\n",
       "      <td>18.0</td>\n",
       "      <td>26.0</td>\n",
       "      <td>2010.0</td>\n",
       "      <td>64.0</td>\n",
       "      <td>37.0</td>\n",
       "      <td>14.0</td>\n",
       "      <td>Дніпровська</td>\n",
       "      <td>вулиця</td>\n",
       "      <td>Оболонський</td>\n",
       "      <td>13.0</td>\n",
       "    </tr>\n",
       "  </tbody>\n",
       "</table>\n",
       "</div>"
      ],
      "text/plain": [
       "      Price  rooms  price_per_m2  level  levels    year  area_total  \\\n",
       "0   30970.0    1.0        1106.0   12.0    13.0  2013.0        28.0   \n",
       "1   30970.0    1.0        1106.0   12.0    13.0  2013.0        28.0   \n",
       "2   30970.0    1.0        1106.0   12.0    13.0  2013.0        28.0   \n",
       "3   30970.0    1.0        1106.0   12.0    13.0  2013.0        28.0   \n",
       "4   30970.0    1.0        1106.0   12.0    13.0  2013.0        28.0   \n",
       "5   30970.0    1.0        1106.0   12.0    13.0  2013.0        28.0   \n",
       "6   82000.0    2.0        1281.0   18.0    26.0  2010.0        64.0   \n",
       "7  135000.0    2.0        2077.0   16.0    23.0  2012.0        65.0   \n",
       "8   84000.0    2.0        1273.0    6.0    26.0  2010.0        66.0   \n",
       "9   82000.0    2.0        1281.0   18.0    26.0  2010.0        64.0   \n",
       "\n",
       "   area_living  area_kitchen           street    type     district  \\\n",
       "0         13.0           5.0  Петропавлівська   площа  Оболонський   \n",
       "1         13.0           5.0  Петропавлівська  вулиця  Подільський   \n",
       "2         13.0           5.0  Петропавлівська   площа  Оболонський   \n",
       "3         13.0           5.0  Петропавлівська  вулиця  Подільський   \n",
       "4         13.0           5.0  Петропавлівська   площа  Оболонський   \n",
       "5         13.0           5.0  Петропавлівська  вулиця  Подільський   \n",
       "6         37.0          14.0      Дніпровська  вулиця  Оболонський   \n",
       "7         25.0          18.0      Дніпровська  вулиця  Оболонський   \n",
       "8         37.0          18.0      Дніпровська  вулиця  Оболонський   \n",
       "9         37.0          14.0      Дніпровська  вулиця  Оболонський   \n",
       "\n",
       "   area_comfort  \n",
       "0          10.0  \n",
       "1          10.0  \n",
       "2          10.0  \n",
       "3          10.0  \n",
       "4          10.0  \n",
       "5          10.0  \n",
       "6          13.0  \n",
       "7          22.0  \n",
       "8          11.0  \n",
       "9          13.0  "
      ]
     },
     "execution_count": 3,
     "metadata": {},
     "output_type": "execute_result"
    }
   ],
   "source": [
    "# ззчитати підготовлений датасет `apartments_clean.csv` в датафрейм та проінспектувати його стан\n",
    "data = pd.read_csv(\"apartments_clean.csv\")\n",
    "data.head(10)"
   ]
  },
  {
   "cell_type": "markdown",
   "id": "9657db97",
   "metadata": {
    "heading_collapsed": true
   },
   "source": [
    "## 1. Визначення типів покажчиків вхідного датасету"
   ]
  },
  {
   "cell_type": "code",
   "execution_count": 4,
   "id": "fb9d7753",
   "metadata": {
    "hidden": true
   },
   "outputs": [],
   "source": [
    "# відокремити від робочого датасету колонку з цільовим показчиком (`Price`) \n",
    "# та вилучити її з обробки\n",
    "target =data['Price']\n",
    "data = data.drop(['Price'], axis=1)"
   ]
  },
  {
   "cell_type": "code",
   "execution_count": 5,
   "id": "dbb005f1",
   "metadata": {
    "hidden": true
   },
   "outputs": [
    {
     "data": {
      "text/plain": [
       "((517,), (517, 12))"
      ]
     },
     "execution_count": 5,
     "metadata": {},
     "output_type": "execute_result"
    }
   ],
   "source": [
    "# для самоперевірки: кількисть рядків в датасетах повинна співпадати!\n",
    "target.shape, data.shape"
   ]
  },
  {
   "cell_type": "code",
   "execution_count": 6,
   "id": "ae23f321",
   "metadata": {
    "hidden": true
   },
   "outputs": [],
   "source": [
    "# імпортувати з sklearn модуль, що відповідає за селективний відбір покажчиків\n",
    "from sklearn.compose import make_column_selector as select"
   ]
  },
  {
   "cell_type": "code",
   "execution_count": 7,
   "id": "652f0ba2",
   "metadata": {
    "hidden": true
   },
   "outputs": [],
   "source": [
    "# побудувати  селектори для вібіру числових та категоріальних колонок\n",
    "numeric_selector = select(dtype_include = np.number)\n",
    "category_selector = select(dtype_include = object)"
   ]
  },
  {
   "cell_type": "code",
   "execution_count": 8,
   "id": "a673dde6",
   "metadata": {
    "hidden": true
   },
   "outputs": [
    {
     "name": "stdout",
     "output_type": "stream",
     "text": [
      "список числових покажчиків = ['rooms', 'price_per_m2', 'level', 'levels', 'year', 'area_total', 'area_living', 'area_kitchen', 'area_comfort']\n",
      "список категоріальних покажчиків = ['street', 'type', 'district']\n"
     ]
    }
   ],
   "source": [
    "# застосувати побудовані селектори для створення списків числових та категоріальних показчиків\n",
    "numeric_data_columns = numeric_selector(data)\n",
    "category_data_columns = category_selector(data)\n",
    "\n",
    "print(f'список числових покажчиків = {numeric_data_columns}')\n",
    "print(f'список категоріальних покажчиків = {category_data_columns}')"
   ]
  },
  {
   "cell_type": "code",
   "execution_count": 9,
   "id": "6ecaeec9",
   "metadata": {
    "hidden": true
   },
   "outputs": [
    {
     "data": {
      "text/plain": [
       "((517, 9), (517, 3))"
      ]
     },
     "execution_count": 9,
     "metadata": {},
     "output_type": "execute_result"
    }
   ],
   "source": [
    "# створити 2 окремі датасети: числовий та категоріальний та вивести їх основні властивості\n",
    "data_numeric = data[numeric_data_columns]\n",
    "data_category = data[category_data_columns]\n",
    "\n",
    "\n",
    "data_numeric.shape, data_category.shape"
   ]
  },
  {
   "cell_type": "markdown",
   "id": "6702f1f4",
   "metadata": {},
   "source": [
    "## 2. Маштабування числових та категоріальних колонок"
   ]
  },
  {
   "cell_type": "markdown",
   "id": "73613dc5",
   "metadata": {
    "heading_collapsed": true
   },
   "source": [
    "### 2.1. Маштабування числових показчиків"
   ]
  },
  {
   "cell_type": "code",
   "execution_count": 10,
   "id": "17349145",
   "metadata": {
    "hidden": true
   },
   "outputs": [],
   "source": [
    "# з модуля `preprocessing` імпортувати нормалізатор 'MinMaxScaler' та стандартизатор 'StandardScaler'\n",
    "from sklearn.preprocessing import MinMaxScaler, StandardScaler"
   ]
  },
  {
   "cell_type": "code",
   "execution_count": 11,
   "id": "6fc56713",
   "metadata": {
    "hidden": true
   },
   "outputs": [],
   "source": [
    "# створити відповідні маштабувачі\n",
    "standart_scaler = StandardScaler()\n",
    "min_max_scaler = MinMaxScaler()"
   ]
  },
  {
   "cell_type": "code",
   "execution_count": 12,
   "id": "0f4a23e6",
   "metadata": {
    "hidden": true
   },
   "outputs": [],
   "source": [
    "# побудувати змаштабовані датасети за двома стратегіями: стандартизація та нормалізація\n",
    "data_numeric_std = standart_scaler.fit_transform(data_numeric)\n",
    "data_numeric_min_max= min_max_scaler.fit_transform(data_numeric)"
   ]
  },
  {
   "cell_type": "markdown",
   "id": "3813999f",
   "metadata": {
    "hidden": true
   },
   "source": [
    "#####  __проаналізувати графіки та визначись який маштабувач краще підходить до числовї підмножини робочого датасету__"
   ]
  },
  {
   "cell_type": "code",
   "execution_count": 18,
   "id": "343c666c",
   "metadata": {
    "hidden": true
   },
   "outputs": [
    {
     "data": {
      "text/plain": [
       "<AxesSubplot:title={'center':'data_numeric_min_max'}, ylabel='Frequency'>"
      ]
     },
     "execution_count": 18,
     "metadata": {},
     "output_type": "execute_result"
    },
    {
     "data": {
      "image/png": "[encoded data removed]",
      "text/plain": [
       "<Figure size 432x216 with 1 Axes>"
      ]
     },
     "metadata": {
      "needs_background": "light"
     },
     "output_type": "display_data"
    },
    {
     "data": {
      "image/png": "[encoded data removed]",
      "text/plain": [
       "<Figure size 432x216 with 1 Axes>"
      ]
     },
     "metadata": {
      "needs_background": "light"
     },
     "output_type": "display_data"
    }
   ],
   "source": [
    "# побудувати графіки розподілення значень показчиків при\n",
    "# стандартном та нормалізованом маштабуванні\n",
    "pd.DataFrame(data_numeric_std).plot(kind='hist',title='data_numeric_std', color='blue',  figsize=[6,3], width=1, legend=False)\n",
    "pd.DataFrame(data_numeric_min_max).plot(kind='hist',title='data_numeric_min_max', color='orange',  figsize=[6,3], width=0.01, legend=False)"
   ]
  },
  {
   "cell_type": "markdown",
   "id": "b76b10d8",
   "metadata": {
    "heading_collapsed": true
   },
   "source": [
    "### 2.1. Маштабування категоріальних показчиків"
   ]
  },
  {
   "cell_type": "code",
   "execution_count": 19,
   "id": "8f404fef",
   "metadata": {
    "hidden": true
   },
   "outputs": [],
   "source": [
    "# з модуля `preporcessing` імпортувати кодувальники 'OrdinalEncoder' та 'OneHotEncoder'\n",
    "from sklearn.preprocessing import OrdinalEncoder, OneHotEncoder"
   ]
  },
  {
   "cell_type": "code",
   "execution_count": 20,
   "id": "b70c4794",
   "metadata": {
    "hidden": true
   },
   "outputs": [],
   "source": [
    "# створити енкодери та закодувати ними відповідні категоріальні колонки\n",
    "ordinal_encoder = OrdinalEncoder().fit_transform(data_category[['district']])\n",
    "one_hot_encoder = OneHotEncoder(sparse=False).fit_transform(data_category[['street']])"
   ]
  },
  {
   "cell_type": "markdown",
   "id": "bb506c75",
   "metadata": {
    "heading_collapsed": true
   },
   "source": [
    "## 3. Побудова трансформера для підготовки даних"
   ]
  },
  {
   "cell_type": "code",
   "execution_count": 21,
   "id": "7c6c1930",
   "metadata": {
    "hidden": true
   },
   "outputs": [],
   "source": [
    "# з модуля `compose` імпортувати трансформер колонок `ColumnTransformer`\n",
    "from sklearn.compose import ColumnTransformer"
   ]
  },
  {
   "cell_type": "code",
   "execution_count": 22,
   "id": "2605b0c2",
   "metadata": {
    "hidden": true
   },
   "outputs": [
    {
     "name": "stdout",
     "output_type": "stream",
     "text": [
      "ColumnTransformer(transformers=[('ordinal_encoder', OrdinalEncoder(),\n",
      "                                 ['district']),\n",
      "                                ('one_hot_encoder', OneHotEncoder(sparse=False),\n",
      "                                 ['street']),\n",
      "                                ('numeric_encoder', MinMaxScaler(),\n",
      "                                 ['rooms', 'price_per_m2', 'level', 'levels',\n",
      "                                  'year', 'area_total', 'area_living',\n",
      "                                  'area_kitchen', 'area_comfort'])])\n"
     ]
    }
   ],
   "source": [
    "# побудувати трансформер для предобробки числових та категоріальних показчиків\n",
    "# робочого датасету\n",
    "transformer = ColumnTransformer([('ordinal_encoder', OrdinalEncoder(), ['district']),\n",
    "                                 ('one_hot_encoder', OneHotEncoder(sparse=False), ['street']),\n",
    "                                 ('numeric_encoder', min_max_scaler, numeric_data_columns)\n",
    "                                ])\n",
    "print(transformer)"
   ]
  },
  {
   "cell_type": "code",
   "execution_count": 23,
   "id": "2375ade7",
   "metadata": {
    "code_folding": [],
    "hidden": true
   },
   "outputs": [
    {
     "data": {
      "text/plain": [
       "(517, 174)"
      ]
     },
     "execution_count": 23,
     "metadata": {},
     "output_type": "execute_result"
    }
   ],
   "source": [
    "# отримати вихідний масив застосував трансфомер до вхідного датасуту\n",
    "data_transformed = transformer.fit_transform(data)\n",
    "data_transformed.shape"
   ]
  },
  {
   "cell_type": "code",
   "execution_count": 24,
   "id": "4ea575ba",
   "metadata": {
    "hidden": true
   },
   "outputs": [
    {
     "data": {
      "text/html": [
       "<div>\n",
       "<style scoped>\n",
       "    .dataframe tbody tr th:only-of-type {\n",
       "        vertical-align: middle;\n",
       "    }\n",
       "\n",
       "    .dataframe tbody tr th {\n",
       "        vertical-align: top;\n",
       "    }\n",
       "\n",
       "    .dataframe thead th {\n",
       "        text-align: right;\n",
       "    }\n",
       "</style>\n",
       "<table border=\"1\" class=\"dataframe\">\n",
       "  <thead>\n",
       "    <tr style=\"text-align: right;\">\n",
       "      <th></th>\n",
       "      <th>target</th>\n",
       "      <th>0</th>\n",
       "      <th>1</th>\n",
       "      <th>2</th>\n",
       "      <th>3</th>\n",
       "      <th>4</th>\n",
       "      <th>5</th>\n",
       "      <th>6</th>\n",
       "      <th>7</th>\n",
       "      <th>8</th>\n",
       "      <th>...</th>\n",
       "      <th>164</th>\n",
       "      <th>165</th>\n",
       "      <th>166</th>\n",
       "      <th>167</th>\n",
       "      <th>168</th>\n",
       "      <th>169</th>\n",
       "      <th>170</th>\n",
       "      <th>171</th>\n",
       "      <th>172</th>\n",
       "      <th>173</th>\n",
       "    </tr>\n",
       "  </thead>\n",
       "  <tbody>\n",
       "    <tr>\n",
       "      <th>0</th>\n",
       "      <td>NaN</td>\n",
       "      <td>11.0</td>\n",
       "      <td>0.0</td>\n",
       "      <td>0.0</td>\n",
       "      <td>0.0</td>\n",
       "      <td>0.0</td>\n",
       "      <td>0.0</td>\n",
       "      <td>0.0</td>\n",
       "      <td>0.0</td>\n",
       "      <td>0.0</td>\n",
       "      <td>...</td>\n",
       "      <td>0.0</td>\n",
       "      <td>0.000000</td>\n",
       "      <td>0.004012</td>\n",
       "      <td>0.34375</td>\n",
       "      <td>0.244444</td>\n",
       "      <td>0.936508</td>\n",
       "      <td>0.008000</td>\n",
       "      <td>0.009677</td>\n",
       "      <td>0.026667</td>\n",
       "      <td>0.109399</td>\n",
       "    </tr>\n",
       "    <tr>\n",
       "      <th>1</th>\n",
       "      <td>NaN</td>\n",
       "      <td>15.0</td>\n",
       "      <td>0.0</td>\n",
       "      <td>0.0</td>\n",
       "      <td>0.0</td>\n",
       "      <td>0.0</td>\n",
       "      <td>0.0</td>\n",
       "      <td>0.0</td>\n",
       "      <td>0.0</td>\n",
       "      <td>0.0</td>\n",
       "      <td>...</td>\n",
       "      <td>0.0</td>\n",
       "      <td>0.000000</td>\n",
       "      <td>0.004012</td>\n",
       "      <td>0.34375</td>\n",
       "      <td>0.244444</td>\n",
       "      <td>0.936508</td>\n",
       "      <td>0.008000</td>\n",
       "      <td>0.009677</td>\n",
       "      <td>0.026667</td>\n",
       "      <td>0.109399</td>\n",
       "    </tr>\n",
       "    <tr>\n",
       "      <th>2</th>\n",
       "      <td>NaN</td>\n",
       "      <td>11.0</td>\n",
       "      <td>0.0</td>\n",
       "      <td>0.0</td>\n",
       "      <td>0.0</td>\n",
       "      <td>0.0</td>\n",
       "      <td>0.0</td>\n",
       "      <td>0.0</td>\n",
       "      <td>0.0</td>\n",
       "      <td>0.0</td>\n",
       "      <td>...</td>\n",
       "      <td>0.0</td>\n",
       "      <td>0.000000</td>\n",
       "      <td>0.004012</td>\n",
       "      <td>0.34375</td>\n",
       "      <td>0.244444</td>\n",
       "      <td>0.936508</td>\n",
       "      <td>0.008000</td>\n",
       "      <td>0.009677</td>\n",
       "      <td>0.026667</td>\n",
       "      <td>0.109399</td>\n",
       "    </tr>\n",
       "    <tr>\n",
       "      <th>3</th>\n",
       "      <td>NaN</td>\n",
       "      <td>15.0</td>\n",
       "      <td>0.0</td>\n",
       "      <td>0.0</td>\n",
       "      <td>0.0</td>\n",
       "      <td>0.0</td>\n",
       "      <td>0.0</td>\n",
       "      <td>0.0</td>\n",
       "      <td>0.0</td>\n",
       "      <td>0.0</td>\n",
       "      <td>...</td>\n",
       "      <td>0.0</td>\n",
       "      <td>0.000000</td>\n",
       "      <td>0.004012</td>\n",
       "      <td>0.34375</td>\n",
       "      <td>0.244444</td>\n",
       "      <td>0.936508</td>\n",
       "      <td>0.008000</td>\n",
       "      <td>0.009677</td>\n",
       "      <td>0.026667</td>\n",
       "      <td>0.109399</td>\n",
       "    </tr>\n",
       "    <tr>\n",
       "      <th>4</th>\n",
       "      <td>NaN</td>\n",
       "      <td>11.0</td>\n",
       "      <td>0.0</td>\n",
       "      <td>0.0</td>\n",
       "      <td>0.0</td>\n",
       "      <td>0.0</td>\n",
       "      <td>0.0</td>\n",
       "      <td>0.0</td>\n",
       "      <td>0.0</td>\n",
       "      <td>0.0</td>\n",
       "      <td>...</td>\n",
       "      <td>0.0</td>\n",
       "      <td>0.000000</td>\n",
       "      <td>0.004012</td>\n",
       "      <td>0.34375</td>\n",
       "      <td>0.244444</td>\n",
       "      <td>0.936508</td>\n",
       "      <td>0.008000</td>\n",
       "      <td>0.009677</td>\n",
       "      <td>0.026667</td>\n",
       "      <td>0.109399</td>\n",
       "    </tr>\n",
       "    <tr>\n",
       "      <th>...</th>\n",
       "      <td>...</td>\n",
       "      <td>...</td>\n",
       "      <td>...</td>\n",
       "      <td>...</td>\n",
       "      <td>...</td>\n",
       "      <td>...</td>\n",
       "      <td>...</td>\n",
       "      <td>...</td>\n",
       "      <td>...</td>\n",
       "      <td>...</td>\n",
       "      <td>...</td>\n",
       "      <td>...</td>\n",
       "      <td>...</td>\n",
       "      <td>...</td>\n",
       "      <td>...</td>\n",
       "      <td>...</td>\n",
       "      <td>...</td>\n",
       "      <td>...</td>\n",
       "      <td>...</td>\n",
       "      <td>...</td>\n",
       "      <td>...</td>\n",
       "    </tr>\n",
       "    <tr>\n",
       "      <th>512</th>\n",
       "      <td>NaN</td>\n",
       "      <td>19.0</td>\n",
       "      <td>0.0</td>\n",
       "      <td>1.0</td>\n",
       "      <td>0.0</td>\n",
       "      <td>0.0</td>\n",
       "      <td>0.0</td>\n",
       "      <td>0.0</td>\n",
       "      <td>0.0</td>\n",
       "      <td>0.0</td>\n",
       "      <td>...</td>\n",
       "      <td>0.0</td>\n",
       "      <td>0.166667</td>\n",
       "      <td>0.003322</td>\n",
       "      <td>0.00000</td>\n",
       "      <td>0.066667</td>\n",
       "      <td>0.912698</td>\n",
       "      <td>0.048000</td>\n",
       "      <td>0.061290</td>\n",
       "      <td>0.146667</td>\n",
       "      <td>0.078582</td>\n",
       "    </tr>\n",
       "    <tr>\n",
       "      <th>513</th>\n",
       "      <td>NaN</td>\n",
       "      <td>0.0</td>\n",
       "      <td>0.0</td>\n",
       "      <td>0.0</td>\n",
       "      <td>0.0</td>\n",
       "      <td>0.0</td>\n",
       "      <td>0.0</td>\n",
       "      <td>0.0</td>\n",
       "      <td>0.0</td>\n",
       "      <td>0.0</td>\n",
       "      <td>...</td>\n",
       "      <td>0.0</td>\n",
       "      <td>0.000000</td>\n",
       "      <td>0.013647</td>\n",
       "      <td>0.03125</td>\n",
       "      <td>0.111111</td>\n",
       "      <td>0.984127</td>\n",
       "      <td>0.050667</td>\n",
       "      <td>0.012903</td>\n",
       "      <td>0.240000</td>\n",
       "      <td>0.106317</td>\n",
       "    </tr>\n",
       "    <tr>\n",
       "      <th>514</th>\n",
       "      <td>NaN</td>\n",
       "      <td>11.0</td>\n",
       "      <td>0.0</td>\n",
       "      <td>0.0</td>\n",
       "      <td>1.0</td>\n",
       "      <td>0.0</td>\n",
       "      <td>0.0</td>\n",
       "      <td>0.0</td>\n",
       "      <td>0.0</td>\n",
       "      <td>0.0</td>\n",
       "      <td>...</td>\n",
       "      <td>0.0</td>\n",
       "      <td>0.000000</td>\n",
       "      <td>0.004274</td>\n",
       "      <td>0.06250</td>\n",
       "      <td>0.066667</td>\n",
       "      <td>0.515873</td>\n",
       "      <td>0.024000</td>\n",
       "      <td>0.025806</td>\n",
       "      <td>0.066667</td>\n",
       "      <td>0.103236</td>\n",
       "    </tr>\n",
       "    <tr>\n",
       "      <th>515</th>\n",
       "      <td>NaN</td>\n",
       "      <td>6.0</td>\n",
       "      <td>0.0</td>\n",
       "      <td>0.0</td>\n",
       "      <td>0.0</td>\n",
       "      <td>0.0</td>\n",
       "      <td>0.0</td>\n",
       "      <td>0.0</td>\n",
       "      <td>0.0</td>\n",
       "      <td>0.0</td>\n",
       "      <td>...</td>\n",
       "      <td>0.0</td>\n",
       "      <td>0.333333</td>\n",
       "      <td>0.004197</td>\n",
       "      <td>0.37500</td>\n",
       "      <td>0.511111</td>\n",
       "      <td>0.865079</td>\n",
       "      <td>0.116000</td>\n",
       "      <td>0.087097</td>\n",
       "      <td>0.146667</td>\n",
       "      <td>0.132512</td>\n",
       "    </tr>\n",
       "    <tr>\n",
       "      <th>516</th>\n",
       "      <td>NaN</td>\n",
       "      <td>21.0</td>\n",
       "      <td>0.0</td>\n",
       "      <td>0.0</td>\n",
       "      <td>0.0</td>\n",
       "      <td>0.0</td>\n",
       "      <td>0.0</td>\n",
       "      <td>0.0</td>\n",
       "      <td>0.0</td>\n",
       "      <td>0.0</td>\n",
       "      <td>...</td>\n",
       "      <td>0.0</td>\n",
       "      <td>0.166667</td>\n",
       "      <td>0.009181</td>\n",
       "      <td>0.21875</td>\n",
       "      <td>0.288889</td>\n",
       "      <td>0.912698</td>\n",
       "      <td>0.058667</td>\n",
       "      <td>0.022581</td>\n",
       "      <td>0.226667</td>\n",
       "      <td>0.109399</td>\n",
       "    </tr>\n",
       "  </tbody>\n",
       "</table>\n",
       "<p>517 rows × 175 columns</p>\n",
       "</div>"
      ],
      "text/plain": [
       "    target     0    1    2    3    4    5    6    7    8  ...  164       165  \\\n",
       "0      NaN  11.0  0.0  0.0  0.0  0.0  0.0  0.0  0.0  0.0  ...  0.0  0.000000   \n",
       "1      NaN  15.0  0.0  0.0  0.0  0.0  0.0  0.0  0.0  0.0  ...  0.0  0.000000   \n",
       "2      NaN  11.0  0.0  0.0  0.0  0.0  0.0  0.0  0.0  0.0  ...  0.0  0.000000   \n",
       "3      NaN  15.0  0.0  0.0  0.0  0.0  0.0  0.0  0.0  0.0  ...  0.0  0.000000   \n",
       "4      NaN  11.0  0.0  0.0  0.0  0.0  0.0  0.0  0.0  0.0  ...  0.0  0.000000   \n",
       "..     ...   ...  ...  ...  ...  ...  ...  ...  ...  ...  ...  ...       ...   \n",
       "512    NaN  19.0  0.0  1.0  0.0  0.0  0.0  0.0  0.0  0.0  ...  0.0  0.166667   \n",
       "513    NaN   0.0  0.0  0.0  0.0  0.0  0.0  0.0  0.0  0.0  ...  0.0  0.000000   \n",
       "514    NaN  11.0  0.0  0.0  1.0  0.0  0.0  0.0  0.0  0.0  ...  0.0  0.000000   \n",
       "515    NaN   6.0  0.0  0.0  0.0  0.0  0.0  0.0  0.0  0.0  ...  0.0  0.333333   \n",
       "516    NaN  21.0  0.0  0.0  0.0  0.0  0.0  0.0  0.0  0.0  ...  0.0  0.166667   \n",
       "\n",
       "          166      167       168       169       170       171       172  \\\n",
       "0    0.004012  0.34375  0.244444  0.936508  0.008000  0.009677  0.026667   \n",
       "1    0.004012  0.34375  0.244444  0.936508  0.008000  0.009677  0.026667   \n",
       "2    0.004012  0.34375  0.244444  0.936508  0.008000  0.009677  0.026667   \n",
       "3    0.004012  0.34375  0.244444  0.936508  0.008000  0.009677  0.026667   \n",
       "4    0.004012  0.34375  0.244444  0.936508  0.008000  0.009677  0.026667   \n",
       "..        ...      ...       ...       ...       ...       ...       ...   \n",
       "512  0.003322  0.00000  0.066667  0.912698  0.048000  0.061290  0.146667   \n",
       "513  0.013647  0.03125  0.111111  0.984127  0.050667  0.012903  0.240000   \n",
       "514  0.004274  0.06250  0.066667  0.515873  0.024000  0.025806  0.066667   \n",
       "515  0.004197  0.37500  0.511111  0.865079  0.116000  0.087097  0.146667   \n",
       "516  0.009181  0.21875  0.288889  0.912698  0.058667  0.022581  0.226667   \n",
       "\n",
       "          173  \n",
       "0    0.109399  \n",
       "1    0.109399  \n",
       "2    0.109399  \n",
       "3    0.109399  \n",
       "4    0.109399  \n",
       "..        ...  \n",
       "512  0.078582  \n",
       "513  0.106317  \n",
       "514  0.103236  \n",
       "515  0.132512  \n",
       "516  0.109399  \n",
       "\n",
       "[517 rows x 175 columns]"
      ]
     },
     "execution_count": 24,
     "metadata": {},
     "output_type": "execute_result"
    }
   ],
   "source": [
    "# побудувати вихідний датафрейм з вихідного масиву додавши в першу колонку\n",
    "# ціловий показчик `target`\n",
    "data_transformed = pd.DataFrame(data_transformed)\n",
    "target = pd.DataFrame(target,columns=['target'])\n",
    "apartment_transformed = pd.concat([target,data_transformed], axis=1)\n",
    "apartment_transformed\n"
   ]
  },
  {
   "cell_type": "code",
   "execution_count": 25,
   "id": "392d36bf",
   "metadata": {
    "hidden": true
   },
   "outputs": [
    {
     "name": "stdout",
     "output_type": "stream",
     "text": [
      "Shape is (517, 175)\n"
     ]
    }
   ],
   "source": [
    "# Проінспектувати вихідний датасет `apartment_transformed`\n",
    "print(f'Shape is {apartment_transformed.shape}')"
   ]
  },
  {
   "cell_type": "code",
   "execution_count": 26,
   "id": "3fca0d30",
   "metadata": {
    "hidden": true
   },
   "outputs": [],
   "source": [
    "# зберегти підготовлений датасет в csv-файлі `apartment_transformed.csv`\n",
    "apartment_transformed.to_csv('apartment_transformed.csv')"
   ]
  },
  {
   "cell_type": "code",
   "execution_count": null,
   "id": "26f7aa68",
   "metadata": {},
   "outputs": [],
   "source": []
  }
 ],
 "metadata": {
  "kernel_info": {
   "name": "python"
  },
  "kernelspec": {
   "display_name": "Python 3 (ipykernel)",
   "language": "python",
   "name": "python3"
  },
  "language_info": {
   "codemirror_mode": {
    "name": "ipython",
    "version": 3
   },
   "file_extension": ".py",
   "mimetype": "text/x-python",
   "name": "python",
   "nbconvert_exporter": "python",
   "pygments_lexer": "ipython3",
   "version": "3.9.12"
  },
  "nteract": {
   "version": "nteract-front-end@1.0.0"
  },
  "varInspector": {
   "cols": {
    "lenName": 16,
    "lenType": 16,
    "lenVar": 40
   },
   "kernels_config": {
    "python": {
     "delete_cmd_postfix": "",
     "delete_cmd_prefix": "del ",
     "library": "var_list.py",
     "varRefreshCmd": "print(var_dic_list())"
    },
    "r": {
     "delete_cmd_postfix": ") ",
     "delete_cmd_prefix": "rm(",
     "library": "var_list.r",
     "varRefreshCmd": "cat(var_dic_list()) "
    }
   },
   "types_to_exclude": [
    "module",
    "function",
    "builtin_function_or_method",
    "instance",
    "_Feature"
   ],
   "window_display": false
  }
 },
 "nbformat": 4,
 "nbformat_minor": 5
}
